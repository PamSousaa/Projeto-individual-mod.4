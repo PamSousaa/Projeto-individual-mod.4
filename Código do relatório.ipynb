{
  "nbformat": 4,
  "nbformat_minor": 0,
  "metadata": {
    "colab": {
      "provenance": []
    },
    "kernelspec": {
      "name": "python3",
      "display_name": "Python 3"
    },
    "language_info": {
      "name": "python"
    }
  },
  "cells": [
    {
      "cell_type": "markdown",
      "source": [
        "# <font color=green>Relatório de Processo Diário -\n",
        "<font color=cyan> DESENVOLVIMENTO DE SOFTWARE\n",
        "\n",
        "\n"
      ],
      "metadata": {
        "id": "chAv2xCE4fIf"
      }
    },
    {
      "cell_type": "markdown",
      "source": [
        "##<font color= violet>Importando a biblioteca Pandas"
      ],
      "metadata": {
        "id": "96A6evQa4jih"
      }
    },
    {
      "cell_type": "code",
      "execution_count": null,
      "metadata": {
        "id": "VkYQYxPe28hl"
      },
      "outputs": [],
      "source": [
        "import pandas as pd"
      ]
    },
    {
      "cell_type": "markdown",
      "source": [
        "###<font color=violet>*Função para criar o dataFrame"
      ],
      "metadata": {
        "id": "BZD_JxLZ418s"
      }
    },
    {
      "cell_type": "code",
      "source": [
        "def criar_dataframe():\n",
        "    #Criaando o DataFrame com os dados fornecidos.\n",
        "    dados = {\n",
        "        'Dia da Semana': ['Segunda-feira', 'Terça-feira', 'Quarta-feira', 'Quinta-feira', 'Sexta-feira', 'Sábado', 'Domingo'],\n",
        "        'Horas Trabalhadas': [6, 7, 8, 6, 7, 5, 4],\n",
        "        'Bugs Corrigidos': [3, 2, 1, 4, 3, 2, 1],\n",
        "        'Tarefas Concluídas': [5, 4, 6, 4, 5, 3, 2]\n",
        "    }\n",
        "    return pd.DataFrame(dados)"
      ],
      "metadata": {
        "id": "uBrdkl_43KKB"
      },
      "execution_count": null,
      "outputs": []
    },
    {
      "cell_type": "markdown",
      "source": [
        "###<font color=violet> Calculando as métricas com base nos dados fornecidos"
      ],
      "metadata": {
        "id": "pXkQNYQh4-X2"
      }
    },
    {
      "cell_type": "code",
      "source": [
        "def calcular_metricas(dados):\n",
        "    #Calculando as métricas solicitadas com base nos dados fornecidos.\n",
        "    total_horas_trabalhadas = dados['Horas Trabalhadas'].sum()\n",
        "    media_diaria_horas_trabalhadas = dados['Horas Trabalhadas'].mean()\n",
        "    total_bugs_corrigidos = dados['Bugs Corrigidos'].sum()\n",
        "    media_diaria_bugs_corrigidos = dados['Bugs Corrigidos'].mean()\n",
        "    total_tarefas_concluidas = dados['Tarefas Concluídas'].sum()\n",
        "    media_diaria_tarefas_concluidas = dados['Tarefas Concluídas'].mean()\n",
        "\n",
        "    dados['Produtividade Diária'] = dados['Tarefas Concluídas'] / dados['Horas Trabalhadas']\n",
        "    produtividade_diaria = dados['Produtividade Diária'].mean()\n",
        "\n",
        "    return (\n",
        "        total_horas_trabalhadas, media_diaria_horas_trabalhadas,\n",
        "        total_bugs_corrigidos, media_diaria_bugs_corrigidos,\n",
        "        total_tarefas_concluidas, media_diaria_tarefas_concluidas,\n",
        "        produtividade_diaria\n",
        "    )"
      ],
      "metadata": {
        "id": "jLtxT3YM3pOW"
      },
      "execution_count": null,
      "outputs": []
    },
    {
      "cell_type": "markdown",
      "source": [
        "##<font color=violet>Criando a Função pra Gerar o Relatório de Dados"
      ],
      "metadata": {
        "id": "LZwF1f9g5GpM"
      }
    },
    {
      "cell_type": "code",
      "source": [
        "def gerar_relatorio(dados):\n",
        "    #Gerando o relatório de progresso diário com base nos dados fornecidos.\n",
        "    total_horas_trabalhadas, media_diaria_horas_trabalhadas, \\\n",
        "    total_bugs_corrigidos, media_diaria_bugs_corrigidos, \\\n",
        "    total_tarefas_concluidas, media_diaria_tarefas_concluidas, \\\n",
        "    produtividade_diaria = calcular_metricas(dados)\n",
        "\n",
        "     # Montando o relatório\n",
        "    relatorio = f\"RELATÓRIO DE PROGRESSO DIÁRIO - DESENVOLVIMENTO DE SOFTWARE\\n\"\n",
        "    relatorio += f\"Período: {dados['Dia da Semana'].iloc[0]} a {dados['Dia da Semana'].iloc[-1]}\\n\\n\"\n",
        "    relatorio += f\"1. Total de Horas Trabalhadas: {total_horas_trabalhadas} horas\\n\"\n",
        "    relatorio += f\"2. Média Diária de Horas Trabalhadas: {media_diaria_horas_trabalhadas:.2f} horas\\n\"\n",
        "    relatorio += f\"3. Total de Bugs Corrigidos: {total_bugs_corrigidos} bugs\\n\"\n",
        "    relatorio += f\"4. Média Diária de Bugs Corrigidos: {media_diaria_bugs_corrigidos:.2f} bugs por dia\\n\"\n",
        "    relatorio += f\"5. Total de Tarefas Concluídas: {total_tarefas_concluidas} tarefas\\n\"\n",
        "    relatorio += f\"6. Média Diária de Tarefas Concluídas: {media_diaria_tarefas_concluidas:.2f} tarefas por dia\\n\"\n",
        "    relatorio += f\"7. Produtividade Diária (Tarefas Concluídas por Hora): {produtividade_diaria:.2f} tarefas por hora de trabalho\"\n",
        "\n",
        "    return relatorio"
      ],
      "metadata": {
        "id": "iwZCsWA131xo"
      },
      "execution_count": null,
      "outputs": []
    },
    {
      "cell_type": "code",
      "source": [
        "\n",
        "def main():\n",
        "    # Criando o DataFrame com os dados fornecidos\n",
        "    dados = criar_dataframe()\n",
        "\n",
        "    # Gerando o relatório\n",
        "    relatorio = gerar_relatorio(dados)\n",
        "\n",
        "    # Imprimindo o relatório\n",
        "    print(relatorio)\n",
        "\n",
        "# Executando o código principal\n",
        "main()"
      ],
      "metadata": {
        "colab": {
          "base_uri": "https://localhost:8080/"
        },
        "id": "Vp1j1fzf38n-",
        "outputId": "0465076a-b7dd-40ba-e118-2b5903dc88f6"
      },
      "execution_count": null,
      "outputs": [
        {
          "output_type": "stream",
          "name": "stdout",
          "text": [
            "RELATÓRIO DE PROGRESSO DIÁRIO - DESENVOLVIMENTO DE SOFTWARE\n",
            "Período: Segunda-feira a Domingo\n",
            "\n",
            "1. Total de Horas Trabalhadas: 43 horas\n",
            "2. Média Diária de Horas Trabalhadas: 6.14 horas\n",
            "3. Total de Bugs Corrigidos: 16 bugs\n",
            "4. Média Diária de Bugs Corrigidos: 2.29 bugs por dia\n",
            "5. Total de Tarefas Concluídas: 29 tarefas\n",
            "6. Média Diária de Tarefas Concluídas: 4.14 tarefas por dia\n",
            "7. Produtividade Diária (Tarefas Concluídas por Hora): 0.66 tarefas por hora de trabalho\n"
          ]
        }
      ]
    },
    {
      "cell_type": "markdown",
      "source": [
        "Com base nos resultados obtidos, a equipe de desenvolvimento trabalhou em média cerca de 6.14 horas por dia, verificou em média 2.29 bugs e concluiu cerca de 4.14 tarefas diariamente. A produtividade geral da equipe foi baixa, com apenas 0.10 tarefas concluídas por hora de trabalho.\n",
        "\n",
        "\n",
        "\n"
      ],
      "metadata": {
        "id": "Td5fZvnVB5Hk"
      }
    },
    {
      "cell_type": "markdown",
      "source": [
        "## Insights e Recomendações\n",
        "\n",
        "Com base nos dados analisados, podemos fazer algumas observações:\n",
        "\n",
        "1. A quantidade média de horas trabalhadas por dia está dentro de uma faixa razoável e equilibrada, sugerindo que os funcionários não estão sobrecarregados ou ociosos.\n",
        "\n",
        "2. A média diária de bugs corrigidos está relativamente baixa. Isso pode indicar a necessidade de revisar os processos de verificação de código e aprofundar as práticas de desenvolvimento para melhorar a qualidade do software.\n",
        "\n",
        "3. A produtividade diária indica que os funcionários estão concluindo, em média, menos de uma tarefa por hora trabalhada. Isso pode ser um indicativo de que as tarefas estão muito complexas ou mal dimensionadas, o que pode ser revisto para melhorar a eficiência da equipe.\n",
        "\n",
        "Com base nas observações acima, recomenda-se:\n",
        "\n",
        "- Realizar uma análise mais detalhada dos bugs identificados para entender suas causas e tomar medidas preventivas para reduzi-los.\n",
        "\n",
        "- Investir em treinamentos e capacita"
      ],
      "metadata": {
        "id": "KYaDzapRl9hL"
      }
    }
  ]
}
